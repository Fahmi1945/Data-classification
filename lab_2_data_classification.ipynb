{
  "nbformat": 4,
  "nbformat_minor": 0,
  "metadata": {
    "colab": {
      "provenance": [],
      "authorship_tag": "ABX9TyPtfXnMQbjvS77eexEcvS0q",
      "include_colab_link": true
    },
    "kernelspec": {
      "name": "python3",
      "display_name": "Python 3"
    },
    "language_info": {
      "name": "python"
    }
  },
  "cells": [
    {
      "cell_type": "markdown",
      "metadata": {
        "id": "view-in-github",
        "colab_type": "text"
      },
      "source": [
        "<a href=\"https://colab.research.google.com/github/Fahmi1945/Data-classification/blob/main/lab_2_data_classification.ipynb\" target=\"_parent\"><img src=\"https://colab.research.google.com/assets/colab-badge.svg\" alt=\"Open In Colab\"/></a>"
      ]
    },
    {
      "cell_type": "code",
      "execution_count": 1,
      "metadata": {
        "colab": {
          "base_uri": "https://localhost:8080/"
        },
        "collapsed": true,
        "id": "2HsQW2MBAyUg",
        "outputId": "b0ceeb22-64d5-4be6-a8e8-fe2f81293c31"
      },
      "outputs": [
        {
          "output_type": "stream",
          "name": "stdout",
          "text": [
            "Collecting langchain_community\n",
            "  Downloading langchain_community-0.3.27-py3-none-any.whl.metadata (2.9 kB)\n",
            "Requirement already satisfied: langchain-core<1.0.0,>=0.3.66 in /usr/local/lib/python3.11/dist-packages (from langchain_community) (0.3.72)\n",
            "Requirement already satisfied: langchain<1.0.0,>=0.3.26 in /usr/local/lib/python3.11/dist-packages (from langchain_community) (0.3.27)\n",
            "Requirement already satisfied: SQLAlchemy<3,>=1.4 in /usr/local/lib/python3.11/dist-packages (from langchain_community) (2.0.41)\n",
            "Requirement already satisfied: requests<3,>=2 in /usr/local/lib/python3.11/dist-packages (from langchain_community) (2.32.3)\n",
            "Requirement already satisfied: PyYAML>=5.3 in /usr/local/lib/python3.11/dist-packages (from langchain_community) (6.0.2)\n",
            "Requirement already satisfied: aiohttp<4.0.0,>=3.8.3 in /usr/local/lib/python3.11/dist-packages (from langchain_community) (3.12.14)\n",
            "Requirement already satisfied: tenacity!=8.4.0,<10,>=8.1.0 in /usr/local/lib/python3.11/dist-packages (from langchain_community) (8.5.0)\n",
            "Collecting dataclasses-json<0.7,>=0.5.7 (from langchain_community)\n",
            "  Downloading dataclasses_json-0.6.7-py3-none-any.whl.metadata (25 kB)\n",
            "Collecting pydantic-settings<3.0.0,>=2.4.0 (from langchain_community)\n",
            "  Downloading pydantic_settings-2.10.1-py3-none-any.whl.metadata (3.4 kB)\n",
            "Requirement already satisfied: langsmith>=0.1.125 in /usr/local/lib/python3.11/dist-packages (from langchain_community) (0.4.8)\n",
            "Collecting httpx-sse<1.0.0,>=0.4.0 (from langchain_community)\n",
            "  Downloading httpx_sse-0.4.1-py3-none-any.whl.metadata (9.4 kB)\n",
            "Requirement already satisfied: numpy>=1.26.2 in /usr/local/lib/python3.11/dist-packages (from langchain_community) (2.0.2)\n",
            "Requirement already satisfied: aiohappyeyeballs>=2.5.0 in /usr/local/lib/python3.11/dist-packages (from aiohttp<4.0.0,>=3.8.3->langchain_community) (2.6.1)\n",
            "Requirement already satisfied: aiosignal>=1.4.0 in /usr/local/lib/python3.11/dist-packages (from aiohttp<4.0.0,>=3.8.3->langchain_community) (1.4.0)\n",
            "Requirement already satisfied: attrs>=17.3.0 in /usr/local/lib/python3.11/dist-packages (from aiohttp<4.0.0,>=3.8.3->langchain_community) (25.3.0)\n",
            "Requirement already satisfied: frozenlist>=1.1.1 in /usr/local/lib/python3.11/dist-packages (from aiohttp<4.0.0,>=3.8.3->langchain_community) (1.7.0)\n",
            "Requirement already satisfied: multidict<7.0,>=4.5 in /usr/local/lib/python3.11/dist-packages (from aiohttp<4.0.0,>=3.8.3->langchain_community) (6.6.3)\n",
            "Requirement already satisfied: propcache>=0.2.0 in /usr/local/lib/python3.11/dist-packages (from aiohttp<4.0.0,>=3.8.3->langchain_community) (0.3.2)\n",
            "Requirement already satisfied: yarl<2.0,>=1.17.0 in /usr/local/lib/python3.11/dist-packages (from aiohttp<4.0.0,>=3.8.3->langchain_community) (1.20.1)\n",
            "Collecting marshmallow<4.0.0,>=3.18.0 (from dataclasses-json<0.7,>=0.5.7->langchain_community)\n",
            "  Downloading marshmallow-3.26.1-py3-none-any.whl.metadata (7.3 kB)\n",
            "Collecting typing-inspect<1,>=0.4.0 (from dataclasses-json<0.7,>=0.5.7->langchain_community)\n",
            "  Downloading typing_inspect-0.9.0-py3-none-any.whl.metadata (1.5 kB)\n",
            "Requirement already satisfied: langchain-text-splitters<1.0.0,>=0.3.9 in /usr/local/lib/python3.11/dist-packages (from langchain<1.0.0,>=0.3.26->langchain_community) (0.3.9)\n",
            "Requirement already satisfied: pydantic<3.0.0,>=2.7.4 in /usr/local/lib/python3.11/dist-packages (from langchain<1.0.0,>=0.3.26->langchain_community) (2.11.7)\n",
            "Requirement already satisfied: jsonpatch<2.0,>=1.33 in /usr/local/lib/python3.11/dist-packages (from langchain-core<1.0.0,>=0.3.66->langchain_community) (1.33)\n",
            "Requirement already satisfied: typing-extensions>=4.7 in /usr/local/lib/python3.11/dist-packages (from langchain-core<1.0.0,>=0.3.66->langchain_community) (4.14.1)\n",
            "Requirement already satisfied: packaging>=23.2 in /usr/local/lib/python3.11/dist-packages (from langchain-core<1.0.0,>=0.3.66->langchain_community) (25.0)\n",
            "Requirement already satisfied: httpx<1,>=0.23.0 in /usr/local/lib/python3.11/dist-packages (from langsmith>=0.1.125->langchain_community) (0.28.1)\n",
            "Requirement already satisfied: orjson<4.0.0,>=3.9.14 in /usr/local/lib/python3.11/dist-packages (from langsmith>=0.1.125->langchain_community) (3.11.1)\n",
            "Requirement already satisfied: requests-toolbelt<2.0.0,>=1.0.0 in /usr/local/lib/python3.11/dist-packages (from langsmith>=0.1.125->langchain_community) (1.0.0)\n",
            "Requirement already satisfied: zstandard<0.24.0,>=0.23.0 in /usr/local/lib/python3.11/dist-packages (from langsmith>=0.1.125->langchain_community) (0.23.0)\n",
            "Collecting python-dotenv>=0.21.0 (from pydantic-settings<3.0.0,>=2.4.0->langchain_community)\n",
            "  Downloading python_dotenv-1.1.1-py3-none-any.whl.metadata (24 kB)\n",
            "Requirement already satisfied: typing-inspection>=0.4.0 in /usr/local/lib/python3.11/dist-packages (from pydantic-settings<3.0.0,>=2.4.0->langchain_community) (0.4.1)\n",
            "Requirement already satisfied: charset-normalizer<4,>=2 in /usr/local/lib/python3.11/dist-packages (from requests<3,>=2->langchain_community) (3.4.2)\n",
            "Requirement already satisfied: idna<4,>=2.5 in /usr/local/lib/python3.11/dist-packages (from requests<3,>=2->langchain_community) (3.10)\n",
            "Requirement already satisfied: urllib3<3,>=1.21.1 in /usr/local/lib/python3.11/dist-packages (from requests<3,>=2->langchain_community) (2.5.0)\n",
            "Requirement already satisfied: certifi>=2017.4.17 in /usr/local/lib/python3.11/dist-packages (from requests<3,>=2->langchain_community) (2025.7.14)\n",
            "Requirement already satisfied: greenlet>=1 in /usr/local/lib/python3.11/dist-packages (from SQLAlchemy<3,>=1.4->langchain_community) (3.2.3)\n",
            "Requirement already satisfied: anyio in /usr/local/lib/python3.11/dist-packages (from httpx<1,>=0.23.0->langsmith>=0.1.125->langchain_community) (4.9.0)\n",
            "Requirement already satisfied: httpcore==1.* in /usr/local/lib/python3.11/dist-packages (from httpx<1,>=0.23.0->langsmith>=0.1.125->langchain_community) (1.0.9)\n",
            "Requirement already satisfied: h11>=0.16 in /usr/local/lib/python3.11/dist-packages (from httpcore==1.*->httpx<1,>=0.23.0->langsmith>=0.1.125->langchain_community) (0.16.0)\n",
            "Requirement already satisfied: jsonpointer>=1.9 in /usr/local/lib/python3.11/dist-packages (from jsonpatch<2.0,>=1.33->langchain-core<1.0.0,>=0.3.66->langchain_community) (3.0.0)\n",
            "Requirement already satisfied: annotated-types>=0.6.0 in /usr/local/lib/python3.11/dist-packages (from pydantic<3.0.0,>=2.7.4->langchain<1.0.0,>=0.3.26->langchain_community) (0.7.0)\n",
            "Requirement already satisfied: pydantic-core==2.33.2 in /usr/local/lib/python3.11/dist-packages (from pydantic<3.0.0,>=2.7.4->langchain<1.0.0,>=0.3.26->langchain_community) (2.33.2)\n",
            "Collecting mypy-extensions>=0.3.0 (from typing-inspect<1,>=0.4.0->dataclasses-json<0.7,>=0.5.7->langchain_community)\n",
            "  Downloading mypy_extensions-1.1.0-py3-none-any.whl.metadata (1.1 kB)\n",
            "Requirement already satisfied: sniffio>=1.1 in /usr/local/lib/python3.11/dist-packages (from anyio->httpx<1,>=0.23.0->langsmith>=0.1.125->langchain_community) (1.3.1)\n",
            "Downloading langchain_community-0.3.27-py3-none-any.whl (2.5 MB)\n",
            "\u001b[2K   \u001b[90m━━━━━━━━━━━━━━━━━━━━━━━━━━━━━━━━━━━━━━━━\u001b[0m \u001b[32m2.5/2.5 MB\u001b[0m \u001b[31m25.4 MB/s\u001b[0m eta \u001b[36m0:00:00\u001b[0m\n",
            "\u001b[?25hDownloading dataclasses_json-0.6.7-py3-none-any.whl (28 kB)\n",
            "Downloading httpx_sse-0.4.1-py3-none-any.whl (8.1 kB)\n",
            "Downloading pydantic_settings-2.10.1-py3-none-any.whl (45 kB)\n",
            "\u001b[2K   \u001b[90m━━━━━━━━━━━━━━━━━━━━━━━━━━━━━━━━━━━━━━━━\u001b[0m \u001b[32m45.2/45.2 kB\u001b[0m \u001b[31m3.1 MB/s\u001b[0m eta \u001b[36m0:00:00\u001b[0m\n",
            "\u001b[?25hDownloading marshmallow-3.26.1-py3-none-any.whl (50 kB)\n",
            "\u001b[2K   \u001b[90m━━━━━━━━━━━━━━━━━━━━━━━━━━━━━━━━━━━━━━━━\u001b[0m \u001b[32m50.9/50.9 kB\u001b[0m \u001b[31m3.3 MB/s\u001b[0m eta \u001b[36m0:00:00\u001b[0m\n",
            "\u001b[?25hDownloading python_dotenv-1.1.1-py3-none-any.whl (20 kB)\n",
            "Downloading typing_inspect-0.9.0-py3-none-any.whl (8.8 kB)\n",
            "Downloading mypy_extensions-1.1.0-py3-none-any.whl (5.0 kB)\n",
            "Installing collected packages: python-dotenv, mypy-extensions, marshmallow, httpx-sse, typing-inspect, pydantic-settings, dataclasses-json, langchain_community\n",
            "Successfully installed dataclasses-json-0.6.7 httpx-sse-0.4.1 langchain_community-0.3.27 marshmallow-3.26.1 mypy-extensions-1.1.0 pydantic-settings-2.10.1 python-dotenv-1.1.1 typing-inspect-0.9.0\n",
            "Collecting replicate\n",
            "  Downloading replicate-1.0.7-py3-none-any.whl.metadata (29 kB)\n",
            "Requirement already satisfied: httpx<1,>=0.21.0 in /usr/local/lib/python3.11/dist-packages (from replicate) (0.28.1)\n",
            "Requirement already satisfied: packaging in /usr/local/lib/python3.11/dist-packages (from replicate) (25.0)\n",
            "Requirement already satisfied: pydantic>1.10.7 in /usr/local/lib/python3.11/dist-packages (from replicate) (2.11.7)\n",
            "Requirement already satisfied: typing_extensions>=4.5.0 in /usr/local/lib/python3.11/dist-packages (from replicate) (4.14.1)\n",
            "Requirement already satisfied: anyio in /usr/local/lib/python3.11/dist-packages (from httpx<1,>=0.21.0->replicate) (4.9.0)\n",
            "Requirement already satisfied: certifi in /usr/local/lib/python3.11/dist-packages (from httpx<1,>=0.21.0->replicate) (2025.7.14)\n",
            "Requirement already satisfied: httpcore==1.* in /usr/local/lib/python3.11/dist-packages (from httpx<1,>=0.21.0->replicate) (1.0.9)\n",
            "Requirement already satisfied: idna in /usr/local/lib/python3.11/dist-packages (from httpx<1,>=0.21.0->replicate) (3.10)\n",
            "Requirement already satisfied: h11>=0.16 in /usr/local/lib/python3.11/dist-packages (from httpcore==1.*->httpx<1,>=0.21.0->replicate) (0.16.0)\n",
            "Requirement already satisfied: annotated-types>=0.6.0 in /usr/local/lib/python3.11/dist-packages (from pydantic>1.10.7->replicate) (0.7.0)\n",
            "Requirement already satisfied: pydantic-core==2.33.2 in /usr/local/lib/python3.11/dist-packages (from pydantic>1.10.7->replicate) (2.33.2)\n",
            "Requirement already satisfied: typing-inspection>=0.4.0 in /usr/local/lib/python3.11/dist-packages (from pydantic>1.10.7->replicate) (0.4.1)\n",
            "Requirement already satisfied: sniffio>=1.1 in /usr/local/lib/python3.11/dist-packages (from anyio->httpx<1,>=0.21.0->replicate) (1.3.1)\n",
            "Downloading replicate-1.0.7-py3-none-any.whl (48 kB)\n",
            "\u001b[2K   \u001b[90m━━━━━━━━━━━━━━━━━━━━━━━━━━━━━━━━━━━━━━━━\u001b[0m \u001b[32m48.6/48.6 kB\u001b[0m \u001b[31m1.9 MB/s\u001b[0m eta \u001b[36m0:00:00\u001b[0m\n",
            "\u001b[?25hInstalling collected packages: replicate\n",
            "Successfully installed replicate-1.0.7\n"
          ]
        }
      ],
      "source": [
        "!pip install langchain_community\n",
        "!pip install replicate"
      ]
    },
    {
      "cell_type": "code",
      "source": [
        "from langchain_community.llms import Replicate\n",
        "import os\n",
        "from google.colab import userdata\n",
        "\n",
        "# Mengambil API token dari secrets\n",
        "# Pastikan nama di sini ('api_token') sama dengan nama yang Anda buat di Langkah 2\n",
        "api_token = userdata.get('api_token')\n",
        "os.environ[\"REPLICATE_API_TOKEN\"] = api_token\n",
        "\n",
        "# Menyiapkan model\n",
        "model = \"ibm-granite/granite-3.3-8b-instruct\"\n",
        "output = Replicate(\n",
        "    model=model,\n",
        "    replicate_api_token=api_token,\n",
        ")\n",
        "\n",
        "print(\"Setup Selesai. Model siap digunakan.\")"
      ],
      "metadata": {
        "colab": {
          "base_uri": "https://localhost:8080/"
        },
        "id": "la2Tc0fNBgI9",
        "outputId": "158e7235-d6a4-4f47-b6b3-604b1e07b1d6"
      },
      "execution_count": 6,
      "outputs": [
        {
          "output_type": "stream",
          "name": "stdout",
          "text": [
            "Setup Selesai. Model siap digunakan.\n"
          ]
        }
      ]
    },
    {
      "cell_type": "code",
      "source": [
        "# Definisikan ulasan pelanggan\n",
        "customer_reviews = [\n",
        "    \"The battery lasts all day, but the phone gets hot during gaming.\", # [cite: 81]\n",
        "    \"The screen is too dim outdoors, but I love the colors indoors.\", # [cite: 82]\n",
        "    \"This phone is fast, but it keeps crashing when I open certain apps.\" # [cite: 83]\n",
        "]\n",
        "reviews_text = \"\\n\".join([f\"Review {i+1}: {review}\" for i, review in enumerate(customer_reviews)]) # [cite: 84, 85]\n",
        "\n",
        "# Atur parameter model dengan nilai default\n",
        "parameters = {\n",
        "    \"top_k\": 0, # [cite: 134]\n",
        "    \"top_p\": 1.0, # [cite: 135]\n",
        "    \"max_tokens\": 256, # [cite: 136]\n",
        "    \"min_tokens\": 0, # [cite: 137]\n",
        "    \"random_seed\": None, # [cite: 138]\n",
        "    \"repetition_penalty\": 1.0, # [cite: 139]\n",
        "    \"stopping_sequence\": None # [cite: 141]\n",
        "}\n",
        "\n",
        "# Masukkan prompt\n",
        "refined_prompt = f\"\"\"\n",
        "Classify these reviews as positive, negative, or mixed, and tag relevant focus areas such as battery life, screen quality, or performance\n",
        "{reviews_text}\n",
        "\"\"\" # [cite: 176, 177, 178]\n",
        "\n",
        "# Panggil model dan cetak hasilnya\n",
        "response = output.invoke(refined_prompt, **parameters) # [cite: 180]\n",
        "print(\"Granite Model Refined Response:\\n\") # [cite: 182]\n",
        "print(response) # [cite: 183]"
      ],
      "metadata": {
        "colab": {
          "base_uri": "https://localhost:8080/"
        },
        "collapsed": true,
        "id": "76HPVRTZBgHX",
        "outputId": "4acaffdb-68ee-4eef-a838-d8d02f6e8b4e"
      },
      "execution_count": 7,
      "outputs": [
        {
          "output_type": "stream",
          "name": "stdout",
          "text": [
            "Granite Model Refined Response:\n",
            "\n",
            "1. Review 1: Negative (Battery Life - Positive, Performance - Negative)\n",
            "   The review mentions a positive aspect of the battery lasting all day, but it also expresses a negative experience with the phone getting hot during gaming, which may indicate an issue with performance under stress.\n",
            "\n",
            "2. Review 2: Mixed (Screen Quality - Mixed)\n",
            "   This review is mixed. The user appreciates the screen quality indoors (positive), but finds it too dim outdoors (negative), indicating a concern with screen performance in varying lighting conditions.\n",
            "\n",
            "3. Review 3: Negative (Performance - Negative)\n",
            "   The review is predominantly negative, as it highlights the phone's speed (positive - fast) but then points out a significant issue with app crashes, pointing to problems in the phone's performance and stability.\n"
          ]
        }
      ]
    },
    {
      "cell_type": "code",
      "source": [
        "# Sempurnakan nilai parameter model top_k\n",
        "parameters = {\n",
        "    \"top_k\": 5, # [cite: 265]\n",
        "    \"top_p\": 1.0, # [cite: 266]\n",
        "    \"max_tokens\": 256, # [cite: 267]\n",
        "    \"min_tokens\": 0, # [cite: 268]\n",
        "    \"random_seed\": None, # [cite: 269]\n",
        "    \"repetition_penalty\": 1.0, # [cite: 270]\n",
        "    \"stopping_sequence\": None # [cite: 272]\n",
        "} # [cite: 264, 273]"
      ],
      "metadata": {
        "id": "J6g0GmAJBgFq"
      },
      "execution_count": 8,
      "outputs": []
    },
    {
      "cell_type": "code",
      "source": [
        "# Sempurnakan beberapa nilai Parameter Model\n",
        "parameters = {\n",
        "    \"top_k\": 1, # [cite: 368]\n",
        "    \"top_p\": 0.5, # [cite: 369]\n",
        "    \"max_tokens\": 10, # [cite: 370]\n",
        "    \"min_tokens\": 3, # [cite: 371]\n",
        "    \"random_seed\": None, # [cite: 372]\n",
        "    \"repetition_penalty\": 1.5, # [cite: 373]\n",
        "    \"stopping_sequence\": None # [cite: 375]\n",
        "} # [cite: 367, 376]"
      ],
      "metadata": {
        "id": "wVY_1vP8BgD8"
      },
      "execution_count": 9,
      "outputs": []
    },
    {
      "cell_type": "code",
      "source": [
        "#Sempurnakan beberapa nilai Parameter Model\n",
        "parameters = {\n",
        "    \"top_k\": 1, # [cite: 471]\n",
        "    \"top_p\": 0.5, # [cite: 472]\n",
        "    \"max_tokens\": 3, # [cite: 473]\n",
        "    \"min_tokens\": 1, # [cite: 474]\n",
        "    \"random_seed\": None, # [cite: 475]\n",
        "    \"repetition_penalty\": 1.5, # [cite: 476]\n",
        "    \"stopping_sequence\": \" \" # [cite: 478]\n",
        "} # [cite: 470, 480]"
      ],
      "metadata": {
        "id": "gCm6ZCPPBgB5"
      },
      "execution_count": 10,
      "outputs": []
    },
    {
      "cell_type": "code",
      "source": [
        "# Definisikan transkrip rapat\n",
        "customer_meetings = [\n",
        "    \"\"\"The meeting began with a discussion of the Q3 marketing\n",
        "budget. It was decided that 40% of the budget will go to\n",
        "digital ads, 30% to events, and 30% to social media campaigns.\n",
        "The team emphasized the need for influencer partnerships to\n",
        "increase brand visibility and email marketing to boost direct\n",
        "engagement. A pilot program to test new ad formats will launch\n",
        "next month, with the team reviewing results by the end of Q3.\n",
        "Later, the team discussed campaign performance metrics. ROI\n",
        "monitoring will be a top priority, and adjustments will be made\n",
        "based on performance data. The events team\n",
        "raised concerns\n",
        "about resource allocation for upcoming trade shows, and it was\n",
        "agreed that an additional $10,000 would be reallocated to cover\n",
        "these costs.\n",
        "Lastly, the team reviewed new creative concepts for the\n",
        "upcoming campaign, deciding to proceed with Concept B, which\n",
        "tested better among focus groups.\n",
        "Deadlines for campaign assets\n",
        "were finalized: all deliverables must be submitted by July\n",
        "15.\"\"\" # [cite: 572, 573, 574, 575]\n",
        "] # [cite: 571, 576]\n",
        "reviews_text = \"\\n\".join([f\"Review {i+1}: {review}\" for i, review in enumerate(customer_meetings)]) # [cite: 603]\n",
        "\n",
        "# Terapkan parameter default\n",
        "parameters = {\n",
        "    \"top_k\": 0, # [cite: 627]\n",
        "    \"top_p\": 1.0, # [cite: 628]\n",
        "    \"max_tokens\": 256, # [cite: 629]\n",
        "    \"min_tokens\": 0, # [cite: 630]\n",
        "    \"random_seed\": None, # [cite: 631]\n",
        "    \"repetition_penalty\": 1.0, # [cite: 632]\n",
        "    \"stopping_sequence\": None # [cite: 634]\n",
        "} # [cite: 626, 635]\n",
        "\n",
        "# Prompt yang disempurnakan\n",
        "refined_focus_prompt = f\"\"\"\n",
        "Summarize this meeting by focusing on key points, decisions, and\n",
        "action items\n",
        "{reviews_text}\n",
        "\"\"\" # [cite: 637, 638, 639]\n",
        "\n",
        "# Panggil model\n",
        "response = output.invoke(refined_focus_prompt, **parameters) # [cite: 641, 642]\n",
        "print(\"Granite Model Response for refined focus area response:\\n\") # [cite: 644]\n",
        "print(response) # [cite: 645]"
      ],
      "metadata": {
        "colab": {
          "base_uri": "https://localhost:8080/"
        },
        "id": "TIA-TEKyBf_6",
        "outputId": "92fb9d15-97f6-4210-ba8b-72914bee14d8"
      },
      "execution_count": 11,
      "outputs": [
        {
          "output_type": "stream",
          "name": "stdout",
          "text": [
            "Granite Model Response for refined focus area response:\n",
            "\n",
            "**Meeting Summary:**\n",
            "\n",
            "1. **Q3 Marketing Budget Allocation:**\n",
            "   - 40% for digital ads\n",
            "   - 30% for events\n",
            "   - 30% for social media campaigns\n",
            "   - Emphasis on influencer partnerships and email marketing for increased visibility and engagement.\n",
            "\n",
            "2. **Pilot Program & ROI Monitoring:**\n",
            "   - Launch of a pilot program for new ad formats next month.\n",
            "   - Team will review results by the end of Q3.\n",
            "   - ROI monitoring to be a top priority, with adjustments based on performance data.\n",
            "\n",
            "3. **Resource Allocation for Events:**\n",
            "   - Additional $10,000 allocated to cover costs for upcoming trade shows, addressing events team's concerns.\n",
            "\n",
            "4. **New Creative Concepts:**\n",
            "   - Decision to proceed with Concept B, as it performed better in focus groups.\n",
            "\n",
            "5. **Campaign Asset Deadlines:**\n",
            "   - All deliverables must be submitted by July 15.\n",
            "\n",
            "**Action Items:**\n",
            "\n",
            "- Finalize and implement the Q3 marketing budget allocation.\n",
            "- Prepare and launch the pilot program for new ad formats by next month.\n",
            "- Monitor ROI and make\n"
          ]
        }
      ]
    },
    {
      "cell_type": "code",
      "source": [
        "# Sempurnakan nilai parameter max_tokens\n",
        "parameters = {\n",
        "    \"top_k\": 0, # [cite: 749]\n",
        "    \"top_p\": 1.0, # [cite: 750]\n",
        "    \"max_tokens\": 20, # [cite: 751]\n",
        "    \"min_tokens\": 0, # [cite: 752]\n",
        "    \"random_seed\": None, # [cite: 753]\n",
        "    \"repetition_penalty\": 1.0, # [cite: 754]\n",
        "    \"stopping_sequence\": None # [cite: 756]\n",
        "} # [cite: 748, 757]"
      ],
      "metadata": {
        "id": "rJUDjRrtBf92"
      },
      "execution_count": 12,
      "outputs": []
    },
    {
      "cell_type": "code",
      "source": [
        "# Sempurnakan beberapa nilai parameter\n",
        "parameters = {\n",
        "    \"top_k\": 10, # [cite: 854]\n",
        "    \"top_p\": 0.9, # [cite: 855]\n",
        "    \"max_tokens\": 20, # [cite: 856]\n",
        "    \"min_tokens\": 0, # [cite: 857]\n",
        "    \"random_seed\": None, # [cite: 858]\n",
        "    \"repetition_penalty\": 1.5, # [cite: 859]\n",
        "    \"stopping_sequence\": \" \" # [cite: 861]\n",
        "} # [cite: 853, 863]"
      ],
      "metadata": {
        "id": "jcGBEbHjBf7o"
      },
      "execution_count": 13,
      "outputs": []
    },
    {
      "cell_type": "code",
      "source": [],
      "metadata": {
        "id": "ymKZHH5xBf5W"
      },
      "execution_count": null,
      "outputs": []
    },
    {
      "cell_type": "code",
      "source": [],
      "metadata": {
        "id": "FYXEvyD9BfyO"
      },
      "execution_count": null,
      "outputs": []
    }
  ]
}